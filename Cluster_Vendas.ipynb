{
  "cells": [
    {
      "cell_type": "markdown",
      "metadata": {
        "id": "view-in-github",
        "colab_type": "text"
      },
      "source": [
        "<a href=\"https://colab.research.google.com/github/rmassis/PowerBI-ThemeTemplates/blob/master/Cluster_Vendas.ipynb\" target=\"_parent\"><img src=\"https://colab.research.google.com/assets/colab-badge.svg\" alt=\"Open In Colab\"/></a>"
      ]
    },
    {
      "cell_type": "code",
      "execution_count": 1,
      "metadata": {
        "colab": {
          "base_uri": "https://localhost:8080/"
        },
        "id": "JcVJNKGP1GhO",
        "outputId": "0b67bdb1-3640-4982-fdb7-1c39bbf67657"
      },
      "outputs": [
        {
          "output_type": "stream",
          "name": "stdout",
          "text": [
            "Mounted at /content/drive\n"
          ]
        }
      ],
      "source": [
        "# minhas bibliotecas atuilizadas\n",
        "import pandas as pd\n",
        "import numpy as np\n",
        "from matplotlib import pyplot as plt\n",
        "from google.colab import drive\n",
        "drive.mount('/content/drive')"
      ]
    },
    {
      "cell_type": "code",
      "execution_count": 2,
      "metadata": {
        "id": "QbClBrC82cpT"
      },
      "outputs": [],
      "source": [
        "# meu aquivo\n",
        "vendas = pd.read_excel('/content/drive/MyDrive/Colab Notebooks/VENDAS.xlsx')"
      ]
    },
    {
      "cell_type": "code",
      "execution_count": null,
      "metadata": {
        "id": "GiBAE9FB3VEC"
      },
      "outputs": [],
      "source": [
        "# meus tipos de dados\n",
        "print(vendas.dtypes)"
      ]
    },
    {
      "cell_type": "code",
      "execution_count": null,
      "metadata": {
        "id": "mRfncdkN3maS"
      },
      "outputs": [],
      "source": [
        "# Importando o dataset iris\n",
        "from sklearn.datasets import load_iris\n",
        "X,y = load_iris(return_X_y=True,as_frame=True)"
      ]
    },
    {
      "cell_type": "code",
      "execution_count": null,
      "metadata": {
        "id": "PbhYzJ6y48cS"
      },
      "outputs": [],
      "source": [
        "# Selecionando apenas as colunas a serem avaliadas\n",
        "vendas = vendas.loc[:,['Qtd Efetiva','Valor total OV']]"
      ]
    },
    {
      "cell_type": "code",
      "execution_count": null,
      "metadata": {
        "colab": {
          "base_uri": "https://localhost:8080/",
          "height": 289
        },
        "id": "CmfHkRue7t84",
        "outputId": "62e053bf-a4bd-4964-891e-f7af7c3b4278"
      },
      "outputs": [
        {
          "output_type": "display_data",
          "data": {
            "text/plain": [
              "<Figure size 432x288 with 1 Axes>"
            ],
            "image/png": "[encoded data removed]"
          },
          "metadata": {
            "needs_background": "light"
          }
        }
      ],
      "source": [
        "# Visualizando graficamente os pontos\n",
        "import matplotlib.pyplot as plt\n",
        "\n",
        "fig, ax = plt.subplots()\n",
        "\n",
        "ax.scatter(vendas['Qtd Efetiva'],vendas['Valor total OV'])\n",
        "\n",
        "plt.show()"
      ]
    },
    {
      "cell_type": "code",
      "execution_count": null,
      "metadata": {
        "id": "HgYddHoRCGc3"
      },
      "outputs": [],
      "source": [
        "# Importando o KMeans\n",
        "from sklearn.cluster import KMeans"
      ]
    },
    {
      "cell_type": "code",
      "execution_count": null,
      "metadata": {
        "id": "mLNOsPm2CJBu"
      },
      "outputs": [],
      "source": [
        "# Utilizando o algoritmo\n",
        "vendas1 = KMeans(n_clusters=2, random_state=0).fit(vendas)"
      ]
    },
    {
      "cell_type": "code",
      "execution_count": null,
      "metadata": {
        "id": "3F0soXzRMjiL"
      },
      "outputs": [],
      "source": [
        "import numpy as np\n",
        "from matplotlib import pyplot as plt"
      ]
    },
    {
      "cell_type": "code",
      "execution_count": null,
      "metadata": {
        "colab": {
          "base_uri": "https://localhost:8080/"
        },
        "id": "NJ__1dB8CN5W",
        "outputId": "43173d23-2aea-434c-8884-09720a46fe4c"
      },
      "outputs": [
        {
          "output_type": "execute_result",
          "data": {
            "text/plain": [
              "array([0, 0, 0, ..., 0, 0, 0], dtype=int32)"
            ]
          },
          "metadata": {},
          "execution_count": 14
        }
      ],
      "source": [
        "# Verificando quais foram os labels determinados pelo k-means\n",
        "vendas1.labels_"
      ]
    },
    {
      "cell_type": "code",
      "execution_count": null,
      "metadata": {
        "colab": {
          "base_uri": "https://localhost:8080/",
          "height": 289
        },
        "id": "KC8iHYtkCRKG",
        "outputId": "320aa63c-236e-4b9e-d326-4235f90a36dd"
      },
      "outputs": [
        {
          "output_type": "display_data",
          "data": {
            "text/plain": [
              "<Figure size 432x288 with 1 Axes>"
            ],
            "image/png": "[encoded data removed]"
          },
          "metadata": {
            "needs_background": "light"
          }
        }
      ],
      "source": [
        "# Visualizando graficamente\n",
        "fig, ax = plt.subplots()\n",
        "\n",
        "ax.scatter(vendas['Qtd Efetiva'],vendas['Valor total OV'],c=vendas1.labels_)\n",
        "\n",
        "plt.show()"
      ]
    },
    {
      "cell_type": "code",
      "source": [
        "# Utilizando o algoritmo\n",
        "vendas2 = KMeans(n_clusters=3, random_state=0).fit(vendas)"
      ],
      "metadata": {
        "id": "dVzgJKxOgfGH"
      },
      "execution_count": null,
      "outputs": []
    },
    {
      "cell_type": "code",
      "source": [
        "# Verificando quais foram os labels determinados pelo k-means\n",
        "vendas2.labels_"
      ],
      "metadata": {
        "colab": {
          "base_uri": "https://localhost:8080/"
        },
        "id": "LBTxDqafgj2g",
        "outputId": "0fda52a3-00ab-4ee9-fea8-2d59c357c9a6"
      },
      "execution_count": null,
      "outputs": [
        {
          "output_type": "execute_result",
          "data": {
            "text/plain": [
              "array([0, 0, 0, ..., 0, 0, 0], dtype=int32)"
            ]
          },
          "metadata": {},
          "execution_count": 31
        }
      ]
    },
    {
      "cell_type": "code",
      "source": [
        "# Visualizando graficamente\n",
        "fig, ax = plt.subplots()\n",
        "\n",
        "ax.scatter(vendas['Qtd Efetiva'],vendas['Valor total OV'],c=vendas2.labels_)\n",
        "\n",
        "plt.show()"
      ],
      "metadata": {
        "colab": {
          "base_uri": "https://localhost:8080/",
          "height": 289
        },
        "id": "TV2tsMJzgmhP",
        "outputId": "4b2fd7bb-c5a1-4c5a-8a96-e8f801aaa317"
      },
      "execution_count": null,
      "outputs": [
        {
          "output_type": "display_data",
          "data": {
            "text/plain": [
              "<Figure size 432x288 with 1 Axes>"
            ],
            "image/png": "[encoded data removed]"
          },
          "metadata": {
            "needs_background": "light"
          }
        }
      ]
    }
  ],
  "metadata": {
    "colab": {
      "provenance": [],
      "authorship_tag": "ABX9TyOzFuPl/cqR+D7t+JHgWQ2F",
      "include_colab_link": true
    },
    "kernelspec": {
      "display_name": "Python 3",
      "name": "python3"
    },
    "language_info": {
      "name": "python"
    }
  },
  "nbformat": 4,
  "nbformat_minor": 0
}