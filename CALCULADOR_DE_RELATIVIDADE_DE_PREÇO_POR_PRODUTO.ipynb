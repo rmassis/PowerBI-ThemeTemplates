{
  "nbformat": 4,
  "nbformat_minor": 0,
  "metadata": {
    "colab": {
      "provenance": [],
      "mount_file_id": "1X1agdIyR5cZQ1x-8WrqaGuGcdK-ojtHP",
      "authorship_tag": "ABX9TyPPMTkyZ5pXrNUy8zUj1UNr",
      "include_colab_link": true
    },
    "kernelspec": {
      "name": "python3",
      "display_name": "Python 3"
    },
    "language_info": {
      "name": "python"
    }
  },
  "cells": [
    {
      "cell_type": "markdown",
      "metadata": {
        "id": "view-in-github",
        "colab_type": "text"
      },
      "source": [
        "<a href=\"https://colab.research.google.com/github/rmassis/PowerBI-ThemeTemplates/blob/master/CALCULADOR_DE_RELATIVIDADE_DE_PRE%C3%87O_POR_PRODUTO.ipynb\" target=\"_parent\"><img src=\"https://colab.research.google.com/assets/colab-badge.svg\" alt=\"Open In Colab\"/></a>"
      ]
    },
    {
      "cell_type": "code",
      "execution_count": 245,
      "metadata": {
        "colab": {
          "base_uri": "https://localhost:8080/"
        },
        "id": "QeRP3DlUlKST",
        "outputId": "2dbf10e9-b818-4fb4-a8e5-5f8033946d3d"
      },
      "outputs": [
        {
          "output_type": "stream",
          "name": "stdout",
          "text": [
            "Drive already mounted at /content/drive; to attempt to forcibly remount, call drive.mount(\"/content/drive\", force_remount=True).\n"
          ]
        }
      ],
      "source": [
        "# minhas bibliotecas atuilizadas\n",
        "import pandas as pd\n",
        "import numpy as np\n",
        "from matplotlib import pyplot as plt\n",
        "from google.colab import drive\n",
        "import openpyxl as xl\n",
        "drive.mount('/content/drive')"
      ]
    },
    {
      "cell_type": "code",
      "source": [
        "pesquisa = pd.read_excel('/content/drive/MyDrive/Colab Notebooks/PESQUISA DE PREÇO.xlsx')\n",
        "\n",
        "# meus tipos de dados\n",
        "print(pesquisa.dtypes)\n"
      ],
      "metadata": {
        "id": "3uMRXANPlOcP"
      },
      "execution_count": null,
      "outputs": []
    },
    {
      "cell_type": "code",
      "source": [
        "# AVALIA A RELATIVIDADE DE PREÇO ENTRE VARIOS PRODUTOS A PARTIR DO PRODUTO SELECIONADO COM PRODUTO PRINCIPAL (O PRODUTO SELECIONADO SERÁ CONSIDERADO COMO BASE 100% PARA O CALCULO DA RELATIVIDADE).\n",
        "\n",
        "nome_produto = str(input(\"ditite o nome do produto\")) # <<-- Esse código abre uma caixa onde o usuário podera digirar o produto que deseja ser calculado a relatividade de preço, porém o produto precisa estar no DataFreme importado.\n",
        "\n",
        "\n",
        "if nome_produto in pesquisa['DESCRIÇÃO DO PRODUTO'].values:\n",
        "    reference_price = pesquisa.loc[pesquisa['DESCRIÇÃO DO PRODUTO'] == nome_produto]['PREÇO'].values[0]\n",
        "else:\n",
        "    print(f\"{nome_produto} não está presente no dicionário.\")\n",
        "    #adicionando o produto no dicionário\n",
        "    reference_price = float(input(\"digite o preço do produto: \"))\n",
        "    pesquisa = pesquisa.append({'DESCRIÇÃO DO PRODUTO':nome_produto, 'PREÇO':reference_price}, ignore_index=True)\n",
        "\n",
        "for _, row in pesquisa.iterrows():\n",
        "    price_difference = row['PREÇO'] - reference_price\n",
        "    price_ratio = row['PREÇO'] / reference_price\n",
        "\n",
        "\n",
        "# PRINT DAS COLUNAS CALCULADAS\n",
        "result = pd.DataFrame(columns=['DESCRIÇÃO DO PRODUTO', 'DIFERENAÇ DE PREÇO', 'RELAÇÃO DE PREÇO'])\n",
        "for _, row in pesquisa.iterrows():\n",
        "    price_difference = row['PREÇO'] - reference_price\n",
        "    price_ratio = row['PREÇO'] / reference_price\n",
        "    if row['PREÇO'] > reference_price:\n",
        "        result = result.append({'DESCRIÇÃO DO PRODUTO': f\"{row['DESCRIÇÃO DO PRODUTO']} {nome_produto}\", \n",
        "                           'DIFERENAÇ DE PREÇO': f\"R$ {price_difference:.2f}\",\n",
        "                           'RELAÇÃO DE PREÇO': f\"{price_ratio:.2f}\"}, ignore_index=True)\n",
        "    elif row['PREÇO'] < reference_price:result = result.append({'DESCRIÇÃO DO PRODUTO': f\"{row['DESCRIÇÃO DO PRODUTO']}{nome_produto}\",\n",
        "                                                                'DIFERENAÇ DE PREÇO': f\"R$ {price_difference:.2f}\",\n",
        "                                                                'RELAÇÃO DE PREÇO': f\"{price_ratio:.2f}\"}, ignore_index=True)\n",
        "print(result)\n",
        "\n",
        "# PRINT PERSONALIZADO DAS COLUNAS CALCULADAS.\n",
        "#result = pd.DataFrame(columns=['DESCRIÇÃO DO PRODUTO', 'DIFERENAÇ DE PREÇO', 'RELAÇÃO DE PREÇO'])\n",
        "#for _, row in pesquisa.iterrows():\n",
        "#    price_difference = row['PREÇO'] - reference_price\n",
        "#    price_ratio = row['PREÇO'] / reference_price\n",
        "#    if row['PREÇO'] > reference_price:\n",
        "#        result = result.append({'DESCRIÇÃO DO PRODUTO': f\"{row['DESCRIÇÃO DO PRODUTO']} É mais caro que {nome_produto}\", \n",
        "#                           'DIFERENAÇ DE PREÇO': f\"R$ {price_difference:.2f}\",\n",
        "#                           'RELAÇÃO DE PREÇO': f\"{price_ratio:.2f}\"}, ignore_index=True)\n",
        "#    elif row['PREÇO'] < reference_price:result = result.append({'DESCRIÇÃO DO PRODUTO': f\"{row['DESCRIÇÃO DO PRODUTO']} é mais barato que {nome_produto}\",\n",
        "#                                                                'DIFERENAÇ DE PREÇO': f\"R$ {price_difference:.2f}\",\n",
        "#                                                                'RELAÇÃO DE PREÇO': f\"{price_ratio:.2f}\"}, ignore_index=True)\n",
        "#print(result)"
      ],
      "metadata": {
        "id": "ipJNP4C87Ebb"
      },
      "execution_count": null,
      "outputs": []
    },
    {
      "cell_type": "code",
      "source": [
        "# CONCATENA A TABELA ORIGINA COM AS COLUNAS CALCULADAS\n",
        "original_table = pd.concat([pesquisa, result], axis=1)"
      ],
      "metadata": {
        "id": "opp3KaPagMYs"
      },
      "execution_count": 246,
      "outputs": []
    },
    {
      "cell_type": "code",
      "source": [
        "# PRINT DA TABELA CONCATENADA\n",
        "print(original_table)"
      ],
      "metadata": {
        "id": "zIh7al-_TGmm"
      },
      "execution_count": null,
      "outputs": []
    },
    {
      "cell_type": "code",
      "source": [
        "# EXPORTA A TABELA CONCATENADA EM EXCEL\n",
        "original_table.to_excel('original_table.xlsx', index=False)\n"
      ],
      "metadata": {
        "id": "YqAXKhZ4tOln"
      },
      "execution_count": 244,
      "outputs": []
    }
  ]
}